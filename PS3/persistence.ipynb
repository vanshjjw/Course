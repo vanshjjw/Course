{
 "cells": [
  {
   "metadata": {
    "ExecuteTime": {
     "end_time": "2025-06-16T16:41:05.350256Z",
     "start_time": "2025-06-16T16:41:05.346366Z"
    }
   },
   "cell_type": "code",
   "source": [
    "import numpy as np\n",
    "import matplotlib.pyplot as plotter\n",
    "import cv2\n",
    "from ripser import ripser\n",
    "from persim import plot_diagrams, PersImage"
   ],
   "id": "e14c9e9dcecf1cbb",
   "outputs": [],
   "execution_count": 79
  },
  {
   "metadata": {},
   "cell_type": "code",
   "source": [
    "def find_connected_components(binary_image):\n",
    "    # connectivity 8 means that diagonally connected pixels are also considered connected\n",
    "    num_labels, labels, stats, centroids = cv2.connectedComponentsWithStats(binary_image, connectivity=8)\n",
    "    centroids = centroids[1:]\n",
    "    return centroids\n",
    "\n",
    "def data_preparation(image_path):\n",
    "    image = cv2.imread(image_path, cv2.IMREAD_GRAYSCALE)\n",
    "    binary_image = cv2.threshold(image, 0, 255, cv2.THRESH_BINARY + cv2.THRESH_OTSU)[1]\n",
    "\n",
    "    point_cloud = find_connected_components(binary_image)\n",
    "    return image, binary_image, point_cloud"
   ],
   "id": "66cb46d844ea70bb",
   "outputs": [],
   "execution_count": null
  },
  {
   "metadata": {},
   "cell_type": "code",
   "source": [
    "def plot_data_preparation(image, point_cloud, binary_image):\n",
    "    plotter.figure(figsize=(18, 6))\n",
    "\n",
    "    plotter.subplot(1, 3, 1)\n",
    "    plotter.imshow(image)\n",
    "    plotter.title('Original Image')\n",
    "    plotter.axis('off')\n",
    "\n",
    "    plotter.subplot(1, 3, 2)\n",
    "    plotter.imshow(binary_image, cmap='gray')\n",
    "    plotter.title('Binary Image')\n",
    "    plotter.axis('off')\n",
    "\n",
    "    plotter.subplot(1, 3, 3)\n",
    "    plotter.scatter(point_cloud[:, 0], point_cloud[:, 1], s=1)\n",
    "    plotter.title('Point Cloud from Centroids')\n",
    "\n",
    "    # Use inverted y-axis to match image coordinates\n",
    "    plotter.gca().invert_yaxis()\n",
    "    plotter.axis('equal')"
   ],
   "id": "9962ee9bf6cbe658",
   "outputs": [],
   "execution_count": null
  },
  {
   "metadata": {
    "ExecuteTime": {
     "end_time": "2025-06-16T16:39:42.684678Z",
     "start_time": "2025-06-16T16:39:42.680618Z"
    }
   },
   "cell_type": "code",
   "source": [
    "def create_persistence_image(diagrams):\n",
    "    h1 = diagrams[1]\n",
    "    h1_finite_death_diagrams = h1[np.isfinite(h1[:, 1])]\n",
    "\n",
    "    print(f\"Number of finite H1 features: {len(h1_finite_death_diagrams)}\")\n",
    "\n",
    "    if len(h1_finite_death_diagrams) == 0:\n",
    "        print(\"No finite H1 features found. Creating empty persistence image.\")\n",
    "        return\n",
    "\n",
    "    pi = PersistenceImager(pixel_size=1.0)\n",
    "    p_image = pi.fit_transform([h1_finite_death_diagrams])[0]\n",
    "\n",
    "    plotter.figure(figsize=(10, 6))\n",
    "    plotter.imshow(p_image, cmap='viridis', origin='lower')\n",
    "    plotter.title(\"Persistence Image (H1)\")\n",
    "    plotter.colorbar()"
   ],
   "id": "3bf06ddd2843d1d7",
   "outputs": [],
   "execution_count": 77
  },
  {
   "metadata": {},
   "cell_type": "code",
   "source": "image, binary_image, point_cloud = data_preparation(\"LSS.png\")",
   "id": "624902097222ffda",
   "outputs": [],
   "execution_count": null
  },
  {
   "metadata": {},
   "cell_type": "code",
   "source": "plot_data_preparation(image, point_cloud, binary_image)",
   "id": "b787f301450cf2fe",
   "outputs": [],
   "execution_count": null
  },
  {
   "metadata": {},
   "cell_type": "code",
   "source": "diagrams = ripser(point_cloud, maxdim=1)['dgms']",
   "id": "1b998176dbb1b95c",
   "outputs": [],
   "execution_count": null
  },
  {
   "metadata": {},
   "cell_type": "code",
   "source": [
    "print(f\"Number of points in point cloud: {len(point_cloud)}\")\n",
    "print(f\"{len(diagrams[0])} H0 features and {len(diagrams[1])} H1 features\")"
   ],
   "id": "cada95fc24fa6f85",
   "outputs": [],
   "execution_count": null
  },
  {
   "metadata": {},
   "cell_type": "code",
   "source": [
    "H0 = diagrams[0]\n",
    "H1 = diagrams[1]"
   ],
   "id": "f3c18a4c88ea9a16",
   "outputs": [],
   "execution_count": null
  },
  {
   "metadata": {},
   "cell_type": "code",
   "source": [
    "plotter.figure(figsize=(10, 4))\n",
    "\n",
    "plotter.subplot(1, 2, 1)\n",
    "plotter.scatter(H0[:, 0], H0[:, 1], c='blue', s=10, label='H0 features')\n",
    "plotter.xlabel(\"Birth\")\n",
    "plotter.ylabel(\"Death\")\n",
    "plotter.legend()\n",
    "\n",
    "plotter.subplot(1, 2, 2)\n",
    "plotter.scatter(H1[:, 0], H1[:, 1], c='orange', s=10, label='H1 features')\n",
    "plotter.xlabel(\"Birth\")\n",
    "plotter.ylabel(\"Death\")\n",
    "plotter.plot([0, np.max(H1)], [0, np.max(H1)], 'k--', label='Noise diagonal')\n",
    "plotter.legend()"
   ],
   "id": "308e4601b308fb84",
   "outputs": [],
   "execution_count": null
  },
  {
   "metadata": {},
   "cell_type": "markdown",
   "source": [
    "The H0 features are connecte components, so all points start as connected components at scale \\epsilon = 0 but they soon die (merge into bigger structures) as we increase the scale. The longest persisting H0 features would be non-trivial galaxy or halos that remain isolated for larger scales.\n",
    "\n",
    "The H1 features represent some connected loops or filaments. The diagonal is features that only appear trivially at some scale and disappear immediately. This is probably just noise? The more off diagonal, the more non-trivial a feature. Since each point represents a topoligical features, we can plot the longest lived features on the binary image to see what they correspond to"
   ],
   "id": "ab2c4b29c45d587c"
  },
  {
   "metadata": {},
   "cell_type": "code",
   "source": [
    "H1_persistence = H1[:,1] - H1[:,0]\n",
    "max_indices = np.argsort(H1_persistence)[-10:] # choose 10\n",
    "max_H1_persistence = H1[max_indices]\n",
    "\n",
    "plotter.scatter(max_H1_persistence[:, 0], max_H1_persistence[:, 1], c='red', label='Top H1')\n",
    "plotter.plot([0, np.max(H1)], [0, np.max(H1)], '--', color='gray')\n",
    "plotter.xlabel(\"Birth\")\n",
    "plotter.ylabel(\"Death\")\n",
    "plotter.title(\"Top Persistent H₁ Features\")\n",
    "plotter.legend()\n",
    "plotter.show()"
   ],
   "id": "44e7c3606b46ee65",
   "outputs": [],
   "execution_count": null
  },
  {
   "metadata": {
    "ExecuteTime": {
     "end_time": "2025-06-16T16:39:45.763146Z",
     "start_time": "2025-06-16T16:39:45.536721Z"
    }
   },
   "cell_type": "code",
   "source": "pi = create_persistence_image(diagrams)",
   "id": "4c44c36e9076cece",
   "outputs": [
    {
     "name": "stdout",
     "output_type": "stream",
     "text": [
      "Number of finite H1 features: 1207\n"
     ]
    },
    {
     "data": {
      "text/plain": [
       "<Figure size 1000x600 with 2 Axes>"
      ],
      "image/png": "[encoded data removed]"
     },
     "metadata": {},
     "output_type": "display_data"
    }
   ],
   "execution_count": 78
  },
  {
   "metadata": {},
   "cell_type": "code",
   "outputs": [],
   "execution_count": null,
   "source": "",
   "id": "403ab9bc3855fb2d"
  }
 ],
 "metadata": {
  "kernelspec": {
   "display_name": "Python 3",
   "language": "python",
   "name": "python3"
  },
  "language_info": {
   "codemirror_mode": {
    "name": "ipython",
    "version": 2
   },
   "file_extension": ".py",
   "mimetype": "text/x-python",
   "name": "python",
   "nbconvert_exporter": "python",
   "pygments_lexer": "ipython2",
   "version": "2.7.6"
  }
 },
 "nbformat": 4,
 "nbformat_minor": 5
}
