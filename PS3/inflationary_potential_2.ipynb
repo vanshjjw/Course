{
 "cells": [
  {
   "metadata": {},
   "cell_type": "code",
   "outputs": [],
   "execution_count": null,
   "source": "#### Second attempt at finding an inflationary potential using a genetic algorithm",
   "id": "1ff18fed8649a9e4"
  },
  {
   "metadata": {},
   "cell_type": "code",
   "outputs": [],
   "execution_count": 74,
   "source": [
    "import numpy as np\n",
    "import random\n",
    "import matplotlib.pyplot as plotter"
   ],
   "id": "a494eac4fe61bcf3"
  },
  {
   "metadata": {
    "ExecuteTime": {
     "end_time": "2025-06-16T21:46:31.447014Z",
     "start_time": "2025-06-16T21:46:31.434196Z"
    }
   },
   "cell_type": "code",
   "source": [
    "PHI_POINTS = 100\n",
    "PHI_RANGE = (-5, 5)\n",
    "\n",
    "def compute_potential(phi, coefficients):\n",
    "    return sum(a * phi ** n for n, a in enumerate(coefficients))\n",
    "\n",
    "def compute_derivatives(phi, coefficients):\n",
    "    V_prime = sum(n * a * phi ** (n - 1) for n, a in enumerate(coefficients) if n > 0)\n",
    "    V_double_prime = sum(n * (n - 1) * a * phi ** (n - 2) for n, a in enumerate(coefficients) if n > 1)\n",
    "    return V_prime, V_double_prime\n",
    "\n",
    "def compute_slowroll_params(phi, coefficients):\n",
    "    V = compute_potential(phi, coefficients)\n",
    "    Vp, Vpp = compute_derivatives(phi, coefficients)\n",
    "\n",
    "    epsilon = 0.5 * (Vp / V)**2\n",
    "    eta = Vpp / V\n",
    "\n",
    "    if not np.isfinite(epsilon) or not np.isfinite(eta):\n",
    "        return np.nan, np.nan\n",
    "\n",
    "    return epsilon, eta\n",
    "\n",
    "# def compute_observables(coefficients):\n",
    "#     phi_vals = np.linspace(*PHI_RANGE, PHI_POINTS)\n",
    "#     eps_vals = []\n",
    "#     integrand = []\n",
    "#     for phi in phi_vals:\n",
    "#         try:\n",
    "#             epsilon, eta = compute_slowroll_params(phi, coefficients)\n",
    "#             if epsilon < 1e-10 or np.isnan(epsilon) or np.isnan(eta):  # avoid div/0\n",
    "#                 continue\n",
    "#             eps_vals.append(epsilon)\n",
    "#             integrand.append(1 / np.sqrt(2 * epsilon))\n",
    "#         except:\n",
    "#             continue\n",
    "#\n",
    "#     if len(integrand) < 2:\n",
    "#         return 0, 0, 1  # fail-safe fallback\n",
    "#\n",
    "#     Ne = np.trapezoid(integrand, phi_vals[:len(integrand)])\n",
    "#     epsilon = np.mean(eps_vals)\n",
    "#     ns = 1 - 6 * epsilon\n",
    "#     r = 16 * epsilon\n",
    "#     return Ne, ns, r\n",
    "\n",
    "def compute_observables(coefficients):\n",
    "    phi_vals = np.linspace(*PHI_RANGE, PHI_POINTS)\n",
    "    eps_vals = []\n",
    "    eta_vals = []\n",
    "    integrand = []\n",
    "\n",
    "    for phi in phi_vals:\n",
    "        epsilon, eta = compute_slowroll_params(phi, coefficients)\n",
    "        if epsilon < 1e-10 or np.isnan(epsilon) or np.isnan(eta):\n",
    "            continue\n",
    "        eps_vals.append(epsilon)\n",
    "        eta_vals.append(eta)\n",
    "        integrand.append(1 / np.sqrt(2 * epsilon))\n",
    "\n",
    "    if len(integrand) < 2:\n",
    "        return 0, 0, 1\n",
    "\n",
    "    Ne = np.trapezoid(integrand, phi_vals[:len(integrand)])\n",
    "    epsilon = np.mean(eps_vals)\n",
    "    eta = np.mean(eta_vals)\n",
    "\n",
    "    ns = 1 - 6 * epsilon + 2 * eta\n",
    "    r = 16 * epsilon\n",
    "    return Ne, ns, r"
   ],
   "id": "1d850b79fb36932e",
   "outputs": [],
   "execution_count": 75
  },
  {
   "metadata": {
    "ExecuteTime": {
     "end_time": "2025-06-16T21:46:31.644252Z",
     "start_time": "2025-06-16T21:46:31.639749Z"
    }
   },
   "cell_type": "code",
   "source": [
    "def fitness(coefficients):\n",
    "    Ne, ns, r = compute_observables(coefficients)\n",
    "\n",
    "    f = np.exp(-abs(Ne - 60)/10) + np.exp(-abs(ns - 0.965) * 100) + np.exp(-max(0, r - 0.07) * 200)\n",
    "    return f"
   ],
   "id": "70c2942c4d6cc046",
   "outputs": [],
   "execution_count": 76
  },
  {
   "metadata": {
    "ExecuteTime": {
     "end_time": "2025-06-16T21:46:31.798773Z",
     "start_time": "2025-06-16T21:46:31.793881Z"
    }
   },
   "cell_type": "code",
   "source": [
    "bound_a = 1.0\n",
    "def generate_population(size, degree):\n",
    "    return [np.random.uniform(-bound_a, bound_a, size=degree+1) for _ in range(size)]"
   ],
   "id": "f4f6afd312440230",
   "outputs": [],
   "execution_count": 77
  },
  {
   "metadata": {
    "ExecuteTime": {
     "end_time": "2025-06-16T21:46:31.874035Z",
     "start_time": "2025-06-16T21:46:31.870494Z"
    }
   },
   "cell_type": "code",
   "source": [
    "# Most hyperparameters do not converge ns and r properly. Needs more work\n",
    "\n",
    "POPULATION = 200\n",
    "MUTATION_RATE = 0.2\n",
    "POLYNOMIAL_DEGREE = 6\n",
    "NUMBER_OF_GENERATIONS = 500\n",
    "GENERATION_FILTER = 10"
   ],
   "id": "7acbba8e5699b7d",
   "outputs": [],
   "execution_count": 78
  },
  {
   "metadata": {},
   "cell_type": "code",
   "source": [
    "|def crossover(p1, p2):\n",
    "    alpha = np.random.rand()\n",
    "    return alpha * p1 + (1 - alpha) * p2\n",
    "\n",
    "def mutate(coefficients, rate=MUTATION_RATE):\n",
    "    new = coefficients.copy()\n",
    "    for i in range(len(new)):\n",
    "        if np.random.rand() < rate:\n",
    "            new[i] += np.random.normal(0, 0.2)\n",
    "    return new"
   ],
   "id": "5a1a1a3379b7266b",
   "outputs": [],
   "execution_count": null
  },
  {
   "metadata": {},
   "cell_type": "code",
   "source": [
    "population = generate_population(POPULATION, POLYNOMIAL_DEGREE)\n",
    "\n",
    "for gen in range(NUMBER_OF_GENERATIONS):\n",
    "    scored = [(fitness(ind), ind) for ind in population]\n",
    "    scored.sort(reverse=True, key=lambda x: x[0])\n",
    "    best = [ind for _, ind in scored[:GENERATION_FILTER]]\n",
    "\n",
    "\n",
    "    children = best.copy()\n",
    "    while len(children) < POPULATION:\n",
    "        parents = random.sample(best, 2)\n",
    "        child = crossover(parents[0], parents[1])\n",
    "        children.append(mutate(child))\n",
    "    population = children\n",
    "\n",
    "    if gen % 5 == 0:\n",
    "        Ne, ns, r = compute_observables(scored[0][1])\n",
    "        print(f\"Generation {gen+1}: Best fitness = {scored[0][0]:.4f}\")\n",
    "        print(f\"Top candidate @ Gen {gen}: Ne={Ne:.2f}, ns={ns:.3f}, r={r:.4f}\")\n"
   ],
   "id": "10f22792cdfd9eae",
   "outputs": [],
   "execution_count": null
  },
  {
   "metadata": {},
   "cell_type": "code",
   "source": [
    "best_fitness, best_coefficients = scored[0]\n",
    "phi = np.linspace(*PHI_RANGE, PHI_POINTS)\n",
    "V = compute_potential(phi, best_coefficients)\n",
    "\n",
    "plotter.plot(phi, V)\n",
    "plotter.title(\"Best Inflationary Potential Found\")\n",
    "plotter.xlabel(\"ϕ\")\n",
    "plotter.ylabel(\"V(ϕ)\")\n",
    "plotter.grid(True)\n",
    "plotter.show()\n",
    "\n",
    "Ne, ns, r = compute_observables(best_coefficients)\n",
    "print(\"\\nBest Candidate Observables:\")\n",
    "print(f\"  Number of e-folds: {Ne:.2f}\")\n",
    "print(f\"  Spectral index (ns): {ns:.4f}\")\n",
    "print(f\"  Tensor-to-scalar ratio (r): {r:.4f}\")\n"
   ],
   "id": "initial_id",
   "outputs": [],
   "execution_count": null
  },
  {
   "metadata": {},
   "cell_type": "code",
   "source": "",
   "id": "285b2cf2d1253c49",
   "outputs": [],
   "execution_count": null
  }
 ],
 "metadata": {
  "kernelspec": {
   "display_name": "Python 3",
   "language": "python",
   "name": "python3"
  },
  "language_info": {
   "codemirror_mode": {
    "name": "ipython",
    "version": 2
   },
   "file_extension": ".py",
   "mimetype": "text/x-python",
   "name": "python",
   "nbconvert_exporter": "python",
   "pygments_lexer": "ipython2",
   "version": "2.7.6"
  }
 },
 "nbformat": 4,
 "nbformat_minor": 5
}
